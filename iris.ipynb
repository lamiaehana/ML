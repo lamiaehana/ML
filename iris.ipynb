{
  "nbformat": 4,
  "nbformat_minor": 0,
  "metadata": {
    "colab": {
      "name": "Untitled0.ipynb",
      "provenance": []
    },
    "kernelspec": {
      "name": "python3",
      "display_name": "Python 3"
    }
  },
  "cells": [
    {
      "cell_type": "markdown",
      "metadata": {
        "id": "6cWuSWWUCESA",
        "colab_type": "text"
      },
      "source": [
        "# Etude des fleurs\n",
        "\n",
        "Python 3 est livré avec de nombreuses bibliothèques d’analyses utiles installées.\n",
        "Par exemple, voici plusieurs paquets utiles à charger :"
      ]
    },
    {
      "cell_type": "code",
      "metadata": {
        "id": "fT7nFakUBgV3",
        "colab_type": "code",
        "colab": {}
      },
      "source": [
        "import numpy as np #Algebre linéaire\n",
        "import pandas as pd #Traitement des données, sur fichier CSV (par exemple, pd.read_csv)\n",
        "import seaborn as sns\n",
        "import matplotlib.pyplot as plt\n",
        "%matplotlib inline"
      ],
      "execution_count": 0,
      "outputs": []
    },
    {
      "cell_type": "code",
      "metadata": {
        "id": "BpisfqxkCWXA",
        "colab_type": "code",
        "colab": {}
      },
      "source": [
        "from sklearn import metrics\n",
        "from sklearn.neighbors import KNeighborsClassifier\n",
        "from sklearn.linear_model import LogisticRegression\n",
        "from sklearn.model_selection import train_test_split"
      ],
      "execution_count": 0,
      "outputs": []
    },
    {
      "cell_type": "code",
      "metadata": {
        "id": "XBCqXSASCZBa",
        "colab_type": "code",
        "colab": {}
      },
      "source": [
        "iris = pd.read_csv('IRIS.csv')\n",
        "\n"
      ],
      "execution_count": 0,
      "outputs": []
    },
    {
      "cell_type": "code",
      "metadata": {
        "id": "GkZ7D_FADw6e",
        "colab_type": "code",
        "colab": {
          "base_uri": "https://localhost:8080/",
          "height": 111
        },
        "outputId": "98dd70a3-3eff-4554-ac32-8f88cce7fd9f"
      },
      "source": [
        "iris.head(2) # Affiche les 2 premières lignes du jeu de données"
      ],
      "execution_count": 67,
      "outputs": [
        {
          "output_type": "execute_result",
          "data": {
            "text/html": [
              "<div>\n",
              "<style scoped>\n",
              "    .dataframe tbody tr th:only-of-type {\n",
              "        vertical-align: middle;\n",
              "    }\n",
              "\n",
              "    .dataframe tbody tr th {\n",
              "        vertical-align: top;\n",
              "    }\n",
              "\n",
              "    .dataframe thead th {\n",
              "        text-align: right;\n",
              "    }\n",
              "</style>\n",
              "<table border=\"1\" class=\"dataframe\">\n",
              "  <thead>\n",
              "    <tr style=\"text-align: right;\">\n",
              "      <th></th>\n",
              "      <th>sepal_length</th>\n",
              "      <th>sepal_width</th>\n",
              "      <th>petal_length</th>\n",
              "      <th>petal_width</th>\n",
              "      <th>species</th>\n",
              "    </tr>\n",
              "  </thead>\n",
              "  <tbody>\n",
              "    <tr>\n",
              "      <th>0</th>\n",
              "      <td>5.1</td>\n",
              "      <td>3.5</td>\n",
              "      <td>1.4</td>\n",
              "      <td>0.2</td>\n",
              "      <td>Iris-setosa</td>\n",
              "    </tr>\n",
              "    <tr>\n",
              "      <th>1</th>\n",
              "      <td>4.9</td>\n",
              "      <td>3.0</td>\n",
              "      <td>1.4</td>\n",
              "      <td>0.2</td>\n",
              "      <td>Iris-setosa</td>\n",
              "    </tr>\n",
              "  </tbody>\n",
              "</table>\n",
              "</div>"
            ],
            "text/plain": [
              "   sepal_length  sepal_width  petal_length  petal_width      species\n",
              "0           5.1          3.5           1.4          0.2  Iris-setosa\n",
              "1           4.9          3.0           1.4          0.2  Iris-setosa"
            ]
          },
          "metadata": {
            "tags": []
          },
          "execution_count": 67
        }
      ]
    },
    {
      "cell_type": "code",
      "metadata": {
        "id": "VyaBlQkkJr4_",
        "colab_type": "code",
        "colab": {
          "base_uri": "https://localhost:8080/",
          "height": 187
        },
        "outputId": "505135ad-dc8a-47b1-ebf1-5fa79501a6d4"
      },
      "source": [
        "iris.info() # Vérifier s'il y a des incohérences dans l'ensemble de données\n",
        "# Comme nous le voyons, il n'y a pas de valeur NULL dans le jeu de données, donc les données peuvent être traitées"
      ],
      "execution_count": 68,
      "outputs": [
        {
          "output_type": "stream",
          "text": [
            "<class 'pandas.core.frame.DataFrame'>\n",
            "RangeIndex: 150 entries, 0 to 149\n",
            "Data columns (total 5 columns):\n",
            "sepal_length    150 non-null float64\n",
            "sepal_width     150 non-null float64\n",
            "petal_length    150 non-null float64\n",
            "petal_width     150 non-null float64\n",
            "species         150 non-null object\n",
            "dtypes: float64(4), object(1)\n",
            "memory usage: 5.9+ KB\n"
          ],
          "name": "stdout"
        }
      ]
    },
    {
      "cell_type": "code",
      "metadata": {
        "id": "_tHNKRjNJ_b4",
        "colab_type": "code",
        "colab": {
          "base_uri": "https://localhost:8080/",
          "height": 85
        },
        "outputId": "d11aa253-1873-4f17-9d7b-ff94beeb093e"
      },
      "source": [
        "iris['species'].value_counts()"
      ],
      "execution_count": 69,
      "outputs": [
        {
          "output_type": "execute_result",
          "data": {
            "text/plain": [
              "Iris-setosa        50\n",
              "Iris-virginica     50\n",
              "Iris-versicolor    50\n",
              "Name: species, dtype: int64"
            ]
          },
          "metadata": {
            "tags": []
          },
          "execution_count": 69
        }
      ]
    },
    {
      "cell_type": "markdown",
      "metadata": {
        "id": "mhhBTHGDvl5Z",
        "colab_type": "text"
      },
      "source": [
        "Voyons maintenant comment la longueur et la largeur sont **distribuées**"
      ]
    },
    {
      "cell_type": "code",
      "metadata": {
        "id": "7Cy9f6hCuQq-",
        "colab_type": "code",
        "colab": {
          "base_uri": "https://localhost:8080/",
          "height": 390
        },
        "outputId": "997552f5-d74c-46ab-f8de-e07bb2cab75d"
      },
      "source": [
        "iris.hist(edgecolor='black', linewidth=1.2)\n",
        "fig=plt.gcf()\n",
        "fig.set_size_inches(12,6)\n",
        "plt.show()"
      ],
      "execution_count": 74,
      "outputs": [
        {
          "output_type": "display_data",
          "data": {
            "image/png": "[encoded data removed]",
            "text/plain": [
              "<Figure size 864x432 with 4 Axes>"
            ]
          },
          "metadata": {
            "tags": []
          }
        }
      ]
    },
    {
      "cell_type": "markdown",
      "metadata": {
        "id": "rc6S180HwF54",
        "colab_type": "text"
      },
      "source": [
        "Voyons maintenant comment la longueur et la largeur varient selon les espèces."
      ]
    },
    {
      "cell_type": "code",
      "metadata": {
        "id": "odN_pgD0ua3T",
        "colab_type": "code",
        "colab": {
          "base_uri": "https://localhost:8080/",
          "height": 626
        },
        "outputId": "4b528d50-e664-4a3d-d540-dba8f6fa82ef"
      },
      "source": [
        "plt.figure(figsize=(15,10))\n",
        "plt.subplot(2,2,1)\n",
        "sns.violinplot(x='species',y='petal_length',data=iris)\n",
        "plt.subplot(2,2,2)\n",
        "sns.violinplot(x='species',y='petal_length',data=iris)\n",
        "plt.subplot(2,2,3)\n",
        "sns.violinplot(x='species',y='petal_length',data=iris)\n",
        "plt.subplot(2,2,4)\n",
        "sns.violinplot(x='species',y='petal_length',data=iris)"
      ],
      "execution_count": 77,
      "outputs": [
        {
          "output_type": "execute_result",
          "data": {
            "text/plain": [
              "<matplotlib.axes._subplots.AxesSubplot at 0x7fcd66a48a90>"
            ]
          },
          "metadata": {
            "tags": []
          },
          "execution_count": 77
        },
        {
          "output_type": "display_data",
          "data": {
            "image/png": "[encoded data removed]",
            "text/plain": [
              "<Figure size 1080x720 with 4 Axes>"
            ]
          },
          "metadata": {
            "tags": []
          }
        }
      ]
    },
    {
      "cell_type": "markdown",
      "metadata": {
        "id": "ylsCugejwXVm",
        "colab_type": "text"
      },
      "source": [
        "Le **violonplot** montre la densité de la longueur et de la largeur de l'espèce. \n",
        "\n",
        "**La partie plus mince** indique qu'il y a moins de densité alors que la partie plus grosse donne une densité plus élevée\n",
        "\n",
        "Maintenant, le problème posé est un problème de **classification**. Nous allons donc utiliser les algorithmes de classification pour construire un modèle."
      ]
    },
    {
      "cell_type": "code",
      "metadata": {
        "id": "K1yVUNW2wnQ-",
        "colab_type": "code",
        "colab": {}
      },
      "source": [
        ""
      ],
      "execution_count": 0,
      "outputs": []
    },
    {
      "cell_type": "markdown",
      "metadata": {
        "id": "rJms8b6Ew1cg",
        "colab_type": "text"
      },
      "source": [
        "**Classification:** les échantillons appartiennent à deux classes ou plus et nous voulons apprendre à partir de données déjà étiquetées comment prédire la classe de données non étiquetées.\n",
        "\n",
        "**Régression:** si la sortie souhaitée consiste en une ou plusieurs variables continues, la tâche est appelée régression. Un exemple de problème de régression serait **la prédiction de la longueur d'un saumon en fonction de son âge et de son poids.**\n",
        "\n",
        "Avant de commencer, nous devons expliquer certaines notations ML.\n",
        "\n",
        "**attributs** -> Un attribut est une propriété d'une instance qui peut être utilisée pour déterminer sa classification. Dans le jeu de données suivant, les attributs sont la **longueur** et la **largeur** des pétales et des sépales. Il est également connu sous le nom de **Caractéristiques** (features)\n",
        "\n",
        "**La variable cible (Target variable)**, dans le contexte d’apprentissage automatique, est la variable qui est ou devrait être la sortie. Ici les variables cibles sont les 3 espèces de fleurs"
      ]
    },
    {
      "cell_type": "code",
      "metadata": {
        "id": "JbcC4mHew9dj",
        "colab_type": "code",
        "colab": {}
      },
      "source": [
        "# Importer tous les paquets nécessaires pour utiliser les différents algorithmes de classification\n",
        "from sklearn.linear_model import LogisticRegression  # Pour l'algorithme de régression logistique\n",
        "from sklearn.model_selection import train_test_split # Pour diviser l'ensemble de données pour l'apprentissage' et les tests\n",
        "from sklearn.neighbors import KNeighborsClassifier  # Pour K plus proches voisins\n",
        "from sklearn import svm  # Oour l'algorithme SVM (Support Vector Machine)\n",
        "from sklearn import metrics # Pour vérifier la précision du modèle\n",
        "from sklearn.tree import DecisionTreeClassifier # Pour utiliser l'algorithme d'arbre de décision"
      ],
      "execution_count": 0,
      "outputs": []
    },
    {
      "cell_type": "code",
      "metadata": {
        "id": "D8t_zEsnyMs4",
        "colab_type": "code",
        "colab": {
          "base_uri": "https://localhost:8080/",
          "height": 34
        },
        "outputId": "a6e697da-84b5-4aca-a475-0645f707d2ff"
      },
      "source": [
        "iris.shape"
      ],
      "execution_count": 80,
      "outputs": [
        {
          "output_type": "execute_result",
          "data": {
            "text/plain": [
              "(150, 5)"
            ]
          },
          "metadata": {
            "tags": []
          },
          "execution_count": 80
        }
      ]
    },
    {
      "cell_type": "markdown",
      "metadata": {
        "id": "5ufe_S6qyiyC",
        "colab_type": "text"
      },
      "source": [
        "Maintenant, lorsque nous formons un algorithme, le nombre d'entités et leur corrélation jouent un rôle important.\n",
        " \n",
        "S'il y a des caractéristiques et que beaucoup d'entre elles sont fortement corrélées, l'entraînement d'un algorithme avec toutes les fonctionnalités réduira la précision. Ainsi, la sélection des fonctionnalités doit être faite avec soin. Cet ensemble de données a moins de fonctionnalités mais nous verrons tout de même la corrélation."
      ]
    },
    {
      "cell_type": "code",
      "metadata": {
        "id": "7BBnQAXNybdo",
        "colab_type": "code",
        "colab": {
          "base_uri": "https://localhost:8080/",
          "height": 270
        },
        "outputId": "1f174b8a-bd99-43f5-96f0-deb762ea2d97"
      },
      "source": [
        "plt.figure(figsize=(7,4)) \n",
        "sns.heatmap(iris.corr(),annot=True,cmap='cubehelix_r') # Dessine la carte thermique avec l'entrée comme matrice de corrélation calculée par (iris.corr ())\n",
        "plt.show()"
      ],
      "execution_count": 82,
      "outputs": [
        {
          "output_type": "display_data",
          "data": {
            "image/png": "[encoded data removed]",
            "text/plain": [
              "<Figure size 504x288 with 2 Axes>"
            ]
          },
          "metadata": {
            "tags": []
          }
        }
      ]
    },
    {
      "cell_type": "markdown",
      "metadata": {
        "id": "O_u1XGUHy6Vt",
        "colab_type": "text"
      },
      "source": [
        "**Observation --->**\n",
        "\n",
        "La largeur et la longueur du sépale ne sont pas corrélées La largeur et la longueur des pétales sont fortement corrélées\n",
        "\n",
        "Nous allons utiliser toutes les fonctionnalités pour l'apprentissage de l'algorithme et en vérifier l'exactitude.\n",
        "\n",
        "Nous utiliserons ensuite 1 fonction Pétale et 1 fonction Sépale pour vérifier la précision de l'algorithme, car nous n'utilisons que 2 fonctions non corrélées. Ainsi, nous pouvons avoir une variance dans le jeu de données qui peut aider à une meilleure précision. Nous allons vérifier plus tard."
      ]
    },
    {
      "cell_type": "markdown",
      "metadata": {
        "id": "w3deFmfzzG7X",
        "colab_type": "text"
      },
      "source": [
        "Étapes à suivre lors de l'application d'un algorithme:\n",
        "\n",
        "\n",
        "\n",
        "1.   Divisez le jeu de données en jeu de données d'**apprentissage** et de **test**. L'ensemble de données de test est généralement plus petit que celui de l'apprentissage, car il aidera à mieux former le modèle.\n",
        "2.   Sélectionnez n'importe quel algorithme basé sur le problème **(classification ou régression**) selon ce que vous pensez être bon.\n",
        "1.   Ensuite, passez le jeu de données d'apprentissage à l'algorithme pour le **former**. Nous utilisons la méthode **.fit ()**\n",
        "2.   Puis passez les données de test à l’algorithme entraîné pour **prédire le résultat**. Nous utilisons la méthode **.predict ().**\n",
        "1.   Nous vérifions ensuite la précision en passant le résultat prévu et la sortie réelle au mode\n",
        "\n",
        "\n",
        "\n",
        "\n",
        "\n"
      ]
    },
    {
      "cell_type": "markdown",
      "metadata": {
        "id": "p8tZJePv0Bww",
        "colab_type": "text"
      },
      "source": [
        "## Fractionnement des données en jeu de données d'apprentissage et de test"
      ]
    },
    {
      "cell_type": "code",
      "metadata": {
        "id": "Ygr-bZU-ytop",
        "colab_type": "code",
        "colab": {
          "base_uri": "https://localhost:8080/",
          "height": 51
        },
        "outputId": "90f0b717-2daa-4f83-a8be-7d6588473da4"
      },
      "source": [
        "train, test = train_test_split(iris, test_size = 0.3) # Dans ce que nos données principales sont divisées en formation et test\n",
        "# L'attribut test_size = 0.3 divise les données en un rapport de 70% et 30%. train = 70% et test = 30%\n",
        "\n",
        "print(train.shape)\n",
        "print(test.shape)"
      ],
      "execution_count": 85,
      "outputs": [
        {
          "output_type": "stream",
          "text": [
            "(105, 5)\n",
            "(45, 5)\n"
          ],
          "name": "stdout"
        }
      ]
    },
    {
      "cell_type": "code",
      "metadata": {
        "id": "1J1T0U180NKK",
        "colab_type": "code",
        "colab": {
          "base_uri": "https://localhost:8080/",
          "height": 187
        },
        "outputId": "ab0befa4-b03b-41e5-e323-857d5fe690c5"
      },
      "source": [
        "iris.info()"
      ],
      "execution_count": 87,
      "outputs": [
        {
          "output_type": "stream",
          "text": [
            "<class 'pandas.core.frame.DataFrame'>\n",
            "RangeIndex: 150 entries, 0 to 149\n",
            "Data columns (total 5 columns):\n",
            "sepal_length    150 non-null float64\n",
            "sepal_width     150 non-null float64\n",
            "petal_length    150 non-null float64\n",
            "petal_width     150 non-null float64\n",
            "species         150 non-null object\n",
            "dtypes: float64(4), object(1)\n",
            "memory usage: 5.9+ KB\n"
          ],
          "name": "stdout"
        }
      ]
    },
    {
      "cell_type": "code",
      "metadata": {
        "id": "wLUAwTS70m02",
        "colab_type": "code",
        "colab": {}
      },
      "source": [
        "train_X = train[['sepal_length','sepal_width','petal_length','petal_width']] # prendre les caractéristiques de données d'entraînement\n",
        "train_y=train.species # sortie de nos données de formation\n",
        "test_X = test[['sepal_length','sepal_width','petal_length','petal_width']] #prenant des fonctionnalités de données de test\n",
        "test_y =test.species # valeur de sortie des données de test\n"
      ],
      "execution_count": 0,
      "outputs": []
    },
    {
      "cell_type": "markdown",
      "metadata": {
        "id": "sfeY4Jzp1U04",
        "colab_type": "text"
      },
      "source": [
        "On va vérifier l'apprentissage et test de données"
      ]
    },
    {
      "cell_type": "code",
      "metadata": {
        "id": "B-CbWKTI1Q7y",
        "colab_type": "code",
        "colab": {
          "base_uri": "https://localhost:8080/",
          "height": 111
        },
        "outputId": "b9d35288-9949-4114-f5fa-b00d0d40d26c"
      },
      "source": [
        "train_X.head(2)"
      ],
      "execution_count": 90,
      "outputs": [
        {
          "output_type": "execute_result",
          "data": {
            "text/html": [
              "<div>\n",
              "<style scoped>\n",
              "    .dataframe tbody tr th:only-of-type {\n",
              "        vertical-align: middle;\n",
              "    }\n",
              "\n",
              "    .dataframe tbody tr th {\n",
              "        vertical-align: top;\n",
              "    }\n",
              "\n",
              "    .dataframe thead th {\n",
              "        text-align: right;\n",
              "    }\n",
              "</style>\n",
              "<table border=\"1\" class=\"dataframe\">\n",
              "  <thead>\n",
              "    <tr style=\"text-align: right;\">\n",
              "      <th></th>\n",
              "      <th>sepal_length</th>\n",
              "      <th>sepal_width</th>\n",
              "      <th>petal_length</th>\n",
              "      <th>petal_width</th>\n",
              "    </tr>\n",
              "  </thead>\n",
              "  <tbody>\n",
              "    <tr>\n",
              "      <th>99</th>\n",
              "      <td>5.7</td>\n",
              "      <td>2.8</td>\n",
              "      <td>4.1</td>\n",
              "      <td>1.3</td>\n",
              "    </tr>\n",
              "    <tr>\n",
              "      <th>111</th>\n",
              "      <td>6.4</td>\n",
              "      <td>2.7</td>\n",
              "      <td>5.3</td>\n",
              "      <td>1.9</td>\n",
              "    </tr>\n",
              "  </tbody>\n",
              "</table>\n",
              "</div>"
            ],
            "text/plain": [
              "     sepal_length  sepal_width  petal_length  petal_width\n",
              "99            5.7          2.8           4.1          1.3\n",
              "111           6.4          2.7           5.3          1.9"
            ]
          },
          "metadata": {
            "tags": []
          },
          "execution_count": 90
        }
      ]
    },
    {
      "cell_type": "code",
      "metadata": {
        "id": "6Rheban31dBy",
        "colab_type": "code",
        "colab": {
          "base_uri": "https://localhost:8080/",
          "height": 111
        },
        "outputId": "84114ba6-7997-4840-b234-1165e8c34e24"
      },
      "source": [
        "test_X.head(2)"
      ],
      "execution_count": 91,
      "outputs": [
        {
          "output_type": "execute_result",
          "data": {
            "text/html": [
              "<div>\n",
              "<style scoped>\n",
              "    .dataframe tbody tr th:only-of-type {\n",
              "        vertical-align: middle;\n",
              "    }\n",
              "\n",
              "    .dataframe tbody tr th {\n",
              "        vertical-align: top;\n",
              "    }\n",
              "\n",
              "    .dataframe thead th {\n",
              "        text-align: right;\n",
              "    }\n",
              "</style>\n",
              "<table border=\"1\" class=\"dataframe\">\n",
              "  <thead>\n",
              "    <tr style=\"text-align: right;\">\n",
              "      <th></th>\n",
              "      <th>sepal_length</th>\n",
              "      <th>sepal_width</th>\n",
              "      <th>petal_length</th>\n",
              "      <th>petal_width</th>\n",
              "    </tr>\n",
              "  </thead>\n",
              "  <tbody>\n",
              "    <tr>\n",
              "      <th>85</th>\n",
              "      <td>6.0</td>\n",
              "      <td>3.4</td>\n",
              "      <td>4.5</td>\n",
              "      <td>1.6</td>\n",
              "    </tr>\n",
              "    <tr>\n",
              "      <th>98</th>\n",
              "      <td>5.1</td>\n",
              "      <td>2.5</td>\n",
              "      <td>3.0</td>\n",
              "      <td>1.1</td>\n",
              "    </tr>\n",
              "  </tbody>\n",
              "</table>\n",
              "</div>"
            ],
            "text/plain": [
              "    sepal_length  sepal_width  petal_length  petal_width\n",
              "85           6.0          3.4           4.5          1.6\n",
              "98           5.1          2.5           3.0          1.1"
            ]
          },
          "metadata": {
            "tags": []
          },
          "execution_count": 91
        }
      ]
    },
    {
      "cell_type": "code",
      "metadata": {
        "id": "gsAT6hcy1lRj",
        "colab_type": "code",
        "colab": {
          "base_uri": "https://localhost:8080/",
          "height": 119
        },
        "outputId": "322058b2-13a0-477a-afc2-153aecc2608c"
      },
      "source": [
        "train_y.head() # sortie des données d'entraînement"
      ],
      "execution_count": 93,
      "outputs": [
        {
          "output_type": "execute_result",
          "data": {
            "text/plain": [
              "99     Iris-versicolor\n",
              "111     Iris-virginica\n",
              "109     Iris-virginica\n",
              "64     Iris-versicolor\n",
              "71     Iris-versicolor\n",
              "Name: species, dtype: object"
            ]
          },
          "metadata": {
            "tags": []
          },
          "execution_count": 93
        }
      ]
    },
    {
      "cell_type": "markdown",
      "metadata": {
        "id": "y__CtHJs15mE",
        "colab_type": "text"
      },
      "source": [
        "## Support Vector Machine (SVM)"
      ]
    },
    {
      "cell_type": "code",
      "metadata": {
        "id": "FVmk2Vvs1tAp",
        "colab_type": "code",
        "colab": {
          "base_uri": "https://localhost:8080/",
          "height": 88
        },
        "outputId": "09170320-816e-4638-8a4c-22e7ae09d1f9"
      },
      "source": [
        "model = svm.SVC() #Sélectionner l'algorithme\n",
        "model.fit(train_X,train_y) #Nous formons l'algorithme avec les données d'apprentissage et le résultat de l'entraînement\n",
        "prediction = model.predict(test_X) # maintenant nous passons les données de test à l'algorithme formé\n",
        "print('La précision du SVM est: ',metrics.accuracy_score(prediction,test_y))\n",
        "#Maintenant, nous vérifions la précision de l'algorithme.\n",
        "#nous passons la sortie prévue par le modèle et la sortie réelle"
      ],
      "execution_count": 95,
      "outputs": [
        {
          "output_type": "stream",
          "text": [
            "La précision du SVM est:  1.0\n"
          ],
          "name": "stdout"
        },
        {
          "output_type": "stream",
          "text": [
            "/usr/local/lib/python3.6/dist-packages/sklearn/svm/base.py:193: FutureWarning: The default value of gamma will change from 'auto' to 'scale' in version 0.22 to account better for unscaled features. Set gamma explicitly to 'auto' or 'scale' to avoid this warning.\n",
            "  \"avoid this warning.\", FutureWarning)\n"
          ],
          "name": "stderr"
        }
      ]
    },
    {
      "cell_type": "markdown",
      "metadata": {
        "id": "V88oFxru24Jb",
        "colab_type": "text"
      },
      "source": [
        "SVM donne une très bonne précision. Nous continuerons à vérifier l'exactitude pour différents modèles.\n",
        "\n",
        "Nous allons maintenant suivre les mêmes étapes que ci-dessus pour l'apprentissage de divers algorithmes d'apprentissage automatique."
      ]
    },
    {
      "cell_type": "markdown",
      "metadata": {
        "id": "OE4qhu4b28eW",
        "colab_type": "text"
      },
      "source": [
        "## Logistic regression"
      ]
    },
    {
      "cell_type": "code",
      "metadata": {
        "id": "D1z9s5k82A1_",
        "colab_type": "code",
        "colab": {
          "base_uri": "https://localhost:8080/",
          "height": 122
        },
        "outputId": "b642c2d9-acc4-4f20-f7a5-350b6acc5df3"
      },
      "source": [
        "model = LogisticRegression()\n",
        "model.fit(train_X,train_y)\n",
        "prediction = model.predict(test_X)\n",
        "print('La précision pour la regression logistique est: ',metrics.accuracy_score(prediction,test_y))"
      ],
      "execution_count": 96,
      "outputs": [
        {
          "output_type": "stream",
          "text": [
            "La précision pour la regression logistique est:  0.9333333333333333\n"
          ],
          "name": "stdout"
        },
        {
          "output_type": "stream",
          "text": [
            "/usr/local/lib/python3.6/dist-packages/sklearn/linear_model/logistic.py:432: FutureWarning: Default solver will be changed to 'lbfgs' in 0.22. Specify a solver to silence this warning.\n",
            "  FutureWarning)\n",
            "/usr/local/lib/python3.6/dist-packages/sklearn/linear_model/logistic.py:469: FutureWarning: Default multi_class will be changed to 'auto' in 0.22. Specify the multi_class option to silence this warning.\n",
            "  \"this warning.\", FutureWarning)\n"
          ],
          "name": "stderr"
        }
      ]
    },
    {
      "cell_type": "markdown",
      "metadata": {
        "id": "m-9BJV1e3mN5",
        "colab_type": "text"
      },
      "source": [
        "## Arbre de décision"
      ]
    },
    {
      "cell_type": "code",
      "metadata": {
        "id": "8w8HMFNR3b2N",
        "colab_type": "code",
        "colab": {
          "base_uri": "https://localhost:8080/",
          "height": 34
        },
        "outputId": "6cb78a93-6266-414a-f827-e11425dff701"
      },
      "source": [
        "model = DecisionTreeClassifier()\n",
        "model.fit(train_X,train_y)\n",
        "prediction = model.predict(test_X)\n",
        "print('La précision pour l\\'arbre de décision est: ',metrics.accuracy_score(prediction,test_y))"
      ],
      "execution_count": 98,
      "outputs": [
        {
          "output_type": "stream",
          "text": [
            "La précision pour l'arbre de décision est:  0.8888888888888888\n"
          ],
          "name": "stdout"
        }
      ]
    },
    {
      "cell_type": "markdown",
      "metadata": {
        "id": "Z0V83qb14Nyd",
        "colab_type": "text"
      },
      "source": [
        "## K Voisins le plus proches"
      ]
    },
    {
      "cell_type": "code",
      "metadata": {
        "id": "VX0hamrW3-iP",
        "colab_type": "code",
        "colab": {
          "base_uri": "https://localhost:8080/",
          "height": 34
        },
        "outputId": "a5a63958-6266-4b0c-af02-0699cb4b6466"
      },
      "source": [
        "model = KNeighborsClassifier(n_neighbors=3)\n",
        "#ceci examine 3 voisins pour mettre les nouvelles données dans une classe\n",
        "model.fit(train_X,train_y)\n",
        "prediction = model.predict(test_X)\n",
        "print('La précision pour KNN est : ',metrics.accuracy_score(prediction,test_y))\n"
      ],
      "execution_count": 100,
      "outputs": [
        {
          "output_type": "stream",
          "text": [
            "La précision pour KNN est :  0.9777777777777777\n"
          ],
          "name": "stdout"
        }
      ]
    },
    {
      "cell_type": "markdown",
      "metadata": {
        "id": "vQPUt3jP4157",
        "colab_type": "text"
      },
      "source": [
        "Vérifions l'exactitude de différentes valeurs de n pour K-NN"
      ]
    },
    {
      "cell_type": "code",
      "metadata": {
        "id": "WlO4BLfa4qMN",
        "colab_type": "code",
        "colab": {
          "base_uri": "https://localhost:8080/",
          "height": 456
        },
        "outputId": "230676e5-9717-4231-895e-8eb5101f6674"
      },
      "source": [
        "a_index=list(range(1,11))\n",
        "a=pd.Series()\n",
        "x=[1,2,3,4,5,6,7,8,9,10]\n",
        "for i in list(range(1,11)):\n",
        "    model=KNeighborsClassifier(n_neighbors=i) \n",
        "    model.fit(train_X,train_y)\n",
        "    prediction=model.predict(test_X)\n",
        "    a=a.append(pd.Series(metrics.accuracy_score(prediction,test_y)))\n",
        "plt.plot(a_index, a)\n",
        "plt.xticks(x)"
      ],
      "execution_count": 101,
      "outputs": [
        {
          "output_type": "execute_result",
          "data": {
            "text/plain": [
              "([<matplotlib.axis.XTick at 0x7fcd65725b38>,\n",
              "  <matplotlib.axis.XTick at 0x7fcd65725470>,\n",
              "  <matplotlib.axis.XTick at 0x7fcd65725320>,\n",
              "  <matplotlib.axis.XTick at 0x7fcd656bd160>,\n",
              "  <matplotlib.axis.XTick at 0x7fcd656bd470>,\n",
              "  <matplotlib.axis.XTick at 0x7fcd656bd940>,\n",
              "  <matplotlib.axis.XTick at 0x7fcd656bde10>,\n",
              "  <matplotlib.axis.XTick at 0x7fcd656c4320>,\n",
              "  <matplotlib.axis.XTick at 0x7fcd656c47f0>,\n",
              "  <matplotlib.axis.XTick at 0x7fcd656c4cc0>],\n",
              " <a list of 10 Text xticklabel objects>)"
            ]
          },
          "metadata": {
            "tags": []
          },
          "execution_count": 101
        },
        {
          "output_type": "display_data",
          "data": {
            "image/png": "[encoded data removed]",
            "text/plain": [
              "<Figure size 432x288 with 1 Axes>"
            ]
          },
          "metadata": {
            "tags": []
          }
        }
      ]
    },
    {
      "cell_type": "markdown",
      "metadata": {
        "id": "qnvJzWbD5A4-",
        "colab_type": "text"
      },
      "source": [
        "Le graphique ci-dessus montre la précision des modèles KNN avec différentes valeurs de n.\n",
        "\n",
        "Nous avons utilisé toutes les fonctionnalités de l'iris dans les modèles ci-dessus. Maintenant, nous allons utiliser les pétales et les sépales séparément.\n",
        "\n",
        "Création de données d'entraînement de pétales et de sépales"
      ]
    },
    {
      "cell_type": "code",
      "metadata": {
        "id": "QLuuHlUp48Em",
        "colab_type": "code",
        "colab": {
          "base_uri": "https://localhost:8080/",
          "height": 187
        },
        "outputId": "d14f7b5d-ad9c-42fc-b4e8-526dfbc31394"
      },
      "source": [
        "iris.info()"
      ],
      "execution_count": 102,
      "outputs": [
        {
          "output_type": "stream",
          "text": [
            "<class 'pandas.core.frame.DataFrame'>\n",
            "RangeIndex: 150 entries, 0 to 149\n",
            "Data columns (total 5 columns):\n",
            "sepal_length    150 non-null float64\n",
            "sepal_width     150 non-null float64\n",
            "petal_length    150 non-null float64\n",
            "petal_width     150 non-null float64\n",
            "species         150 non-null object\n",
            "dtypes: float64(4), object(1)\n",
            "memory usage: 5.9+ KB\n"
          ],
          "name": "stdout"
        }
      ]
    },
    {
      "cell_type": "code",
      "metadata": {
        "id": "-qCKeD8-5WwT",
        "colab_type": "code",
        "colab": {}
      },
      "source": [
        "petal = iris[['petal_length','petal_width','species']]\n",
        "sepale = iris[['sepal_length','sepal_width','species']]"
      ],
      "execution_count": 0,
      "outputs": []
    },
    {
      "cell_type": "code",
      "metadata": {
        "id": "Qq3mj-nO5uft",
        "colab_type": "code",
        "colab": {}
      },
      "source": [
        "#Petal\n",
        "train_p,test_p = train_test_split(petal, test_size = 0.3, random_state=0)\n",
        "train_x_p = train_p[['petal_width','petal_length']]\n",
        "train_y_p = train_p.species\n",
        "\n",
        "test_x_p = test_p[['petal_width','petal_length']] \n",
        "test_y_p = test_p.species\n",
        "\n",
        "#Sepale\n",
        "train_s,test_s = train_test_split(sepale, test_size=0.3,random_state=0)\n",
        "train_x_s = train_s[['sepal_width','sepal_length']]\n",
        "train_y_s = train_s.species\n",
        "\n",
        "test_x_s = test_s[['sepal_width','sepal_length']]\n",
        "test_y_s = test_s.species\n"
      ],
      "execution_count": 0,
      "outputs": []
    },
    {
      "cell_type": "markdown",
      "metadata": {
        "id": "TpB5B0m37Nzy",
        "colab_type": "text"
      },
      "source": [
        "## SVM"
      ]
    },
    {
      "cell_type": "code",
      "metadata": {
        "id": "tRTP7GrN7Lc3",
        "colab_type": "code",
        "colab": {
          "base_uri": "https://localhost:8080/",
          "height": 139
        },
        "outputId": "c7fe1292-4e75-46d5-c3b1-bdfda5f6aa75"
      },
      "source": [
        "model = svm.SVC()\n",
        "model.fit(train_x_p,train_y_p)\n",
        "prediction = model.predict(test_x_p)\n",
        "print('LA précision du SVM est de: ',metrics.accuracy_score(prediction,test_y_p))\n",
        "\n",
        "model = svm.SVC()\n",
        "model.fit(train_x_s,train_y_s)\n",
        "prediction = model.predict(test_x_s)\n",
        "print('La précision du SVM est de: ',metrics.accuracy_score(prediction,test_y_s))\n"
      ],
      "execution_count": 108,
      "outputs": [
        {
          "output_type": "stream",
          "text": [
            "LA précision du SVM est de:  0.9777777777777777\n",
            "La précision du SVM est de:  0.8\n"
          ],
          "name": "stdout"
        },
        {
          "output_type": "stream",
          "text": [
            "/usr/local/lib/python3.6/dist-packages/sklearn/svm/base.py:193: FutureWarning: The default value of gamma will change from 'auto' to 'scale' in version 0.22 to account better for unscaled features. Set gamma explicitly to 'auto' or 'scale' to avoid this warning.\n",
            "  \"avoid this warning.\", FutureWarning)\n",
            "/usr/local/lib/python3.6/dist-packages/sklearn/svm/base.py:193: FutureWarning: The default value of gamma will change from 'auto' to 'scale' in version 0.22 to account better for unscaled features. Set gamma explicitly to 'auto' or 'scale' to avoid this warning.\n",
            "  \"avoid this warning.\", FutureWarning)\n"
          ],
          "name": "stderr"
        }
      ]
    },
    {
      "cell_type": "markdown",
      "metadata": {
        "id": "veguVX-d8PZm",
        "colab_type": "text"
      },
      "source": [
        "## Logistic regression"
      ]
    },
    {
      "cell_type": "code",
      "metadata": {
        "id": "ps0xP2uB7yEs",
        "colab_type": "code",
        "colab": {
          "base_uri": "https://localhost:8080/",
          "height": 207
        },
        "outputId": "2c0d6317-2548-424e-c69d-7aa025396b7d"
      },
      "source": [
        "model = LogisticRegression()\n",
        "model.fit(train_x_p,train_y_p)\n",
        "prediciton = model.predict(test_x_p)\n",
        "print('La précision pour la regression logistique est de: ',metrics.accuracy_score(prediction,test_y_p))\n",
        "\n",
        "model = LogisticRegression()\n",
        "model.fit(train_x_s,train_y_s)\n",
        "predition = model.predict(test_x_s)\n",
        "print('La précision por la regression logisituqe pour sépales est de: ',metrics.accuracy_score(prediction,test_y_s))"
      ],
      "execution_count": 109,
      "outputs": [
        {
          "output_type": "stream",
          "text": [
            "La précision pour la regression logistique est de:  0.8\n",
            "La précision por la regression logisituqe pour sépales est de:  0.8\n"
          ],
          "name": "stdout"
        },
        {
          "output_type": "stream",
          "text": [
            "/usr/local/lib/python3.6/dist-packages/sklearn/linear_model/logistic.py:432: FutureWarning: Default solver will be changed to 'lbfgs' in 0.22. Specify a solver to silence this warning.\n",
            "  FutureWarning)\n",
            "/usr/local/lib/python3.6/dist-packages/sklearn/linear_model/logistic.py:469: FutureWarning: Default multi_class will be changed to 'auto' in 0.22. Specify the multi_class option to silence this warning.\n",
            "  \"this warning.\", FutureWarning)\n",
            "/usr/local/lib/python3.6/dist-packages/sklearn/linear_model/logistic.py:432: FutureWarning: Default solver will be changed to 'lbfgs' in 0.22. Specify a solver to silence this warning.\n",
            "  FutureWarning)\n",
            "/usr/local/lib/python3.6/dist-packages/sklearn/linear_model/logistic.py:469: FutureWarning: Default multi_class will be changed to 'auto' in 0.22. Specify the multi_class option to silence this warning.\n",
            "  \"this warning.\", FutureWarning)\n"
          ],
          "name": "stderr"
        }
      ]
    },
    {
      "cell_type": "markdown",
      "metadata": {
        "id": "ccambOC49CZ_",
        "colab_type": "text"
      },
      "source": [
        "## Arbre de décision"
      ]
    },
    {
      "cell_type": "code",
      "metadata": {
        "id": "zH-ihWCk8-IQ",
        "colab_type": "code",
        "colab": {
          "base_uri": "https://localhost:8080/",
          "height": 51
        },
        "outputId": "2611f077-8b07-4dd9-dcba-9edab674baeb"
      },
      "source": [
        "model = DecisionTreeClassifier()\n",
        "model.fit(train_x_p,train_y_p)\n",
        "prediction = model.predict(test_x_p)\n",
        "print('La précision pour petale sur arbre de décision est de : ',metrics.accuracy_score(prediciton,test_y_p))\n",
        "\n",
        "\n",
        "model = DecisionTreeClassifier()\n",
        "model.fit(train_x_s,train_y_s)\n",
        "prediciton = model.predict(test_x_s)\n",
        "print('La précision pour sepales sur arbre de décision est de : ',metrics.accuracy_score(prediciton,test_y_s))"
      ],
      "execution_count": 110,
      "outputs": [
        {
          "output_type": "stream",
          "text": [
            "La précision pour petale sur arbre de décision est de :  0.6888888888888889\n",
            "La précision pour sepales sur arbre de décision est de :  0.6444444444444445\n"
          ],
          "name": "stdout"
        }
      ]
    },
    {
      "cell_type": "markdown",
      "metadata": {
        "id": "pHVADxmM9yNi",
        "colab_type": "text"
      },
      "source": [
        "## KNN"
      ]
    },
    {
      "cell_type": "code",
      "metadata": {
        "id": "tb_u9XM49vzD",
        "colab_type": "code",
        "colab": {
          "base_uri": "https://localhost:8080/",
          "height": 51
        },
        "outputId": "2bffbfc4-d33e-403b-838a-1240cd21c047"
      },
      "source": [
        "model = KNeighborsClassifier(n_neighbors=3)\n",
        "#ceci examine 3 voisins pour mettre les nouvelles données dans une classe\n",
        "model.fit(train_x_p,train_y_p)\n",
        "prediction= model.predict(test_x_p)\n",
        "print('La précision pour KNN est petales: ',metrics.accuracy_score(prediction,test_y_p))\n",
        "\n",
        "\n",
        "model = KNeighborsClassifier(n_neighbors=3 )\n",
        "model.fit(train_x_s,train_y_s)\n",
        "prediciton = model.predict(test_x_s)\n",
        "print('La précision pour KNN sepales est : ',metrics.accuracy_score(prediction,test_y_s))"
      ],
      "execution_count": 111,
      "outputs": [
        {
          "output_type": "stream",
          "text": [
            "La précision pour KNN est petales:  0.9777777777777777\n",
            "La précision pour KNN sepales est :  0.9777777777777777\n"
          ],
          "name": "stdout"
        }
      ]
    },
    {
      "cell_type": "markdown",
      "metadata": {
        "id": "rUIPPKN4-iXW",
        "colab_type": "text"
      },
      "source": [
        "**Observations:**\n",
        "*   L'utilisation de Petals sur Sepal pour l'apprentissage des données donne une bien meilleure précision.\n",
        "*   Ceci était attendu comme nous l'avons vu dans la carte thermique ci-dessus, que la corrélation entre la largeur et la longueur du sépale était très faible, tandis que la corrélation entre la largeur et la longueur des pétales était très élevée.\n",
        "\n"
      ]
    },
    {
      "cell_type": "markdown",
      "metadata": {
        "id": "-HLh1vri-_Y9",
        "colab_type": "text"
      },
      "source": [
        "\n",
        "Ainsi, nous venons de mettre en œuvre une partie de l'apprentissage machine commun. Comme le jeu de données est petit et comporte très peu d’entités, je n’ai pas abordé certains concepts, car ils seraient pertinents lorsque nous avons beaucoup d’entités.\n",
        "\n",
        "J'ai compilé un cahier couvrant quelques concepts avancés de ML en utilisant un plus grand ensemble de données. Jetez un coup d'œil à ça aussi.\n",
        "\n",
        "J'espère que le cahier vous a été utile pour démarrer avec Machine Learning."
      ]
    },
    {
      "cell_type": "code",
      "metadata": {
        "id": "dF7brwZD-cuP",
        "colab_type": "code",
        "colab": {}
      },
      "source": [
        ""
      ],
      "execution_count": 0,
      "outputs": []
    }
  ]
}